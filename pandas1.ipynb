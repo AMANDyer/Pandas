{
 "cells": [
  {
   "cell_type": "code",
   "execution_count": 1,
   "id": "835e54cc-7e4f-4725-9bea-9679980f77cd",
   "metadata": {},
   "outputs": [],
   "source": [
    "#Pandas ......> Pandas is an open-source library of python that is used for handle data manipulations"
   ]
  },
  {
   "cell_type": "code",
   "execution_count": 2,
   "id": "c348a8c2-22b8-45d1-bb17-8047b0daeb47",
   "metadata": {},
   "outputs": [],
   "source": [
    "#pip install pandas"
   ]
  },
  {
   "cell_type": "code",
   "execution_count": 3,
   "id": "0b835a9f-7fe3-448b-93da-26bdc9639ba1",
   "metadata": {},
   "outputs": [],
   "source": [
    "import pandas as pd"
   ]
  },
  {
   "cell_type": "code",
   "execution_count": 4,
   "id": "41ffba11-e229-47e7-b034-e7d40470edfb",
   "metadata": {},
   "outputs": [],
   "source": [
    " #Data structures of pandas\n",
    "#(a)Series...>It is one-Dimenstional array and it shows only values\n",
    "#(b)DataFrame...>It is multi-Dimenstional array and it contains values with column name"
   ]
  },
  {
   "cell_type": "code",
   "execution_count": 5,
   "id": "c1ff5b11-1675-47d1-928b-f16aaf5f1b0a",
   "metadata": {},
   "outputs": [],
   "source": [
    "#(a) Series"
   ]
  },
  {
   "cell_type": "code",
   "execution_count": 6,
   "id": "0d8e7c07-0ca3-464c-9355-1eb60ec935c8",
   "metadata": {},
   "outputs": [
    {
     "data": {
      "text/plain": [
       "0     1\n",
       "1    45\n",
       "2    78\n",
       "3    90\n",
       "dtype: int64"
      ]
     },
     "execution_count": 6,
     "metadata": {},
     "output_type": "execute_result"
    }
   ],
   "source": [
    "a=pd.Series([1,45,78,90])\n",
    "a"
   ]
  },
  {
   "cell_type": "code",
   "execution_count": 7,
   "id": "6885b538-73e2-4a73-a76c-71dc16f8c5a1",
   "metadata": {},
   "outputs": [
    {
     "data": {
      "text/plain": [
       "pandas.core.series.Series"
      ]
     },
     "execution_count": 7,
     "metadata": {},
     "output_type": "execute_result"
    }
   ],
   "source": [
    "type(a)"
   ]
  },
  {
   "cell_type": "code",
   "execution_count": 8,
   "id": "0e1dac7b-7cfd-4976-920c-faa4b3430eb8",
   "metadata": {},
   "outputs": [],
   "source": [
    "#(b) DataFrame"
   ]
  },
  {
   "cell_type": "code",
   "execution_count": 10,
   "id": "f0e32080-e26b-4e79-9afa-78aa489ed4d0",
   "metadata": {},
   "outputs": [
    {
     "data": {
      "text/plain": [
       "{'Emp_ID': [1, 2, 3, 4, 5],\n",
       " 'Name': ['Sam', 'Raj', 'Mohit', 'Aniket', 'Pallavi'],\n",
       " 'Department': ['IT', 'Sales', 'Sales', 'IT', 'IT'],\n",
       " 'Salary': [20000, 25000, 30000, 32000, 27000]}"
      ]
     },
     "execution_count": 10,
     "metadata": {},
     "output_type": "execute_result"
    }
   ],
   "source": [
    "a={\n",
    "    \"Emp_ID\":[1,2,3,4,5],\n",
    "    \"Name\":['Sam','Raj','Mohit','Aniket','Pallavi'],\n",
    "    \"Department\":['IT','Sales','Sales','IT','IT'],\n",
    "    \"Salary\":[20000,25000,30000,32000,27000]\n",
    "}\n",
    "a"
   ]
  },
  {
   "cell_type": "code",
   "execution_count": 11,
   "id": "24d7e6b5-b218-4348-bc54-2e15bc49b3a1",
   "metadata": {},
   "outputs": [
    {
     "data": {
      "text/html": [
       "<div>\n",
       "<style scoped>\n",
       "    .dataframe tbody tr th:only-of-type {\n",
       "        vertical-align: middle;\n",
       "    }\n",
       "\n",
       "    .dataframe tbody tr th {\n",
       "        vertical-align: top;\n",
       "    }\n",
       "\n",
       "    .dataframe thead th {\n",
       "        text-align: right;\n",
       "    }\n",
       "</style>\n",
       "<table border=\"1\" class=\"dataframe\">\n",
       "  <thead>\n",
       "    <tr style=\"text-align: right;\">\n",
       "      <th></th>\n",
       "      <th>Emp_ID</th>\n",
       "      <th>Name</th>\n",
       "      <th>Department</th>\n",
       "      <th>Salary</th>\n",
       "    </tr>\n",
       "  </thead>\n",
       "  <tbody>\n",
       "    <tr>\n",
       "      <th>0</th>\n",
       "      <td>1</td>\n",
       "      <td>Sam</td>\n",
       "      <td>IT</td>\n",
       "      <td>20000</td>\n",
       "    </tr>\n",
       "    <tr>\n",
       "      <th>1</th>\n",
       "      <td>2</td>\n",
       "      <td>Raj</td>\n",
       "      <td>Sales</td>\n",
       "      <td>25000</td>\n",
       "    </tr>\n",
       "    <tr>\n",
       "      <th>2</th>\n",
       "      <td>3</td>\n",
       "      <td>Mohit</td>\n",
       "      <td>Sales</td>\n",
       "      <td>30000</td>\n",
       "    </tr>\n",
       "    <tr>\n",
       "      <th>3</th>\n",
       "      <td>4</td>\n",
       "      <td>Aniket</td>\n",
       "      <td>IT</td>\n",
       "      <td>32000</td>\n",
       "    </tr>\n",
       "    <tr>\n",
       "      <th>4</th>\n",
       "      <td>5</td>\n",
       "      <td>Pallavi</td>\n",
       "      <td>IT</td>\n",
       "      <td>27000</td>\n",
       "    </tr>\n",
       "  </tbody>\n",
       "</table>\n",
       "</div>"
      ],
      "text/plain": [
       "   Emp_ID     Name Department  Salary\n",
       "0       1      Sam         IT   20000\n",
       "1       2      Raj      Sales   25000\n",
       "2       3    Mohit      Sales   30000\n",
       "3       4   Aniket         IT   32000\n",
       "4       5  Pallavi         IT   27000"
      ]
     },
     "execution_count": 11,
     "metadata": {},
     "output_type": "execute_result"
    }
   ],
   "source": [
    "df=pd.DataFrame(a)\n",
    "df"
   ]
  },
  {
   "cell_type": "code",
   "execution_count": null,
   "id": "264f92dd-9b6a-4b1a-bffa-e5e4eaeb8e4b",
   "metadata": {},
   "outputs": [],
   "source": []
  }
 ],
 "metadata": {
  "kernelspec": {
   "display_name": "Python 3 (ipykernel)",
   "language": "python",
   "name": "python3"
  },
  "language_info": {
   "codemirror_mode": {
    "name": "ipython",
    "version": 3
   },
   "file_extension": ".py",
   "mimetype": "text/x-python",
   "name": "python",
   "nbconvert_exporter": "python",
   "pygments_lexer": "ipython3",
   "version": "3.11.8"
  }
 },
 "nbformat": 4,
 "nbformat_minor": 5
}
